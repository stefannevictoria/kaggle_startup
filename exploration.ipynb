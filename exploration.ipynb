{
 "cells": [
  {
   "cell_type": "markdown",
   "id": "eb100bac",
   "metadata": {},
   "source": [
    "# **Introdução**\n"
   ]
  },
  {
   "cell_type": "markdown",
   "id": "b81e2e9c",
   "metadata": {},
   "source": [
    "# **Análise Exploratória dos Dados**"
   ]
  },
  {
   "cell_type": "markdown",
   "id": "f74fdd43",
   "metadata": {},
   "source": [
    "##### Importação das bibliotecas\n"
   ]
  },
  {
   "cell_type": "code",
   "execution_count": null,
   "id": "6bdbef89",
   "metadata": {},
   "outputs": [],
   "source": [
    "# Importação das bibliotecas\n",
    "import pandas as pd\n",
    "import numpy as np\n",
    "import matplotlib.pyplot as plt\n",
    "import seaborn as sns\n",
    "from sklearn.preprocessing import StandardScaler, LabelEncoder\n",
    "from sklearn.model_selection import train_test_split, cross_val_score\n",
    "from sklearn.ensemble import RandomForestClassifier\n",
    "from sklearn.linear_model import LogisticRegression\n",
    "from sklearn.metrics import classification_report, confusion_matrix, roc_auc_score\n",
    "import warnings"
   ]
  },
  {
   "cell_type": "markdown",
   "id": "fb0a2509",
   "metadata": {},
   "source": [
    "##### Carregamento das bases de treino e teste"
   ]
  },
  {
   "cell_type": "code",
   "execution_count": null,
   "id": "ebebec76",
   "metadata": {},
   "outputs": [],
   "source": [
    "train_data = pd.read_csv('data/train.csv')\n",
    "test_data = pd.read_csv('data/test.csv') "
   ]
  },
  {
   "cell_type": "markdown",
   "id": "c314449c",
   "metadata": {},
   "source": [
    "#### Estrutura do Dataset"
   ]
  },
  {
   "cell_type": "markdown",
   "id": "45e83366",
   "metadata": {},
   "source": [
    "**Análise Descritiva**\n"
   ]
  },
  {
   "cell_type": "code",
   "execution_count": null,
   "id": "1d2292c3",
   "metadata": {},
   "outputs": [],
   "source": [
    "train_data.describe()"
   ]
  },
  {
   "cell_type": "markdown",
   "id": "42c9754b",
   "metadata": {},
   "source": [
    "A tabela acima mostra as estatísticas descritivas do conjunto de dados. Algumas informações importantes são: \n",
    "\n",
    "- **Idade e marcos:** as colunas de idade em relação ao primeiro/último financiamento e ao primeiro/último marco apresentam valores médios entre 2 e 5 anos, mas com grande variação (máximo chegando a mais de 20 anos). Isso indica que existem tanto startups muito jovens quanto outras mais consolidadas.\n",
    "- **Relacionamentos e rodadas de investimento:** em média, cada empresa tem cerca de 8 relacionamentos e 2,3 rodadas de financiamento. O máximo observado foi de 63 relacionamentos e 8 rodadas, mostrando casos de alto networking e captação recorrente.\n",
    "- **Financiamento total:** há uma grande dispersão em funding_total_usd. O valor médio é em torno de 29 milhões de dólares, mas o desvio padrão é muito alto, chegando a um máximo de 5,7 bilhões. Isso sugere forte assimetria e presença de outliers.\n",
    "- **Milestones:** a média de marcos atingidos é próxima de 2, com máximo de 6.\n",
    "- **Variáveis binárias:** indicam se a empresa pertence a determinada categoria ou atingiu uma rodada específica. A média desses campos mostra a proporção de empresas que se enquadram em cada caso. Por exemplo, cerca de 55% são da Califórnia (is_CA), 33% receberam investimento de venture capital (has_VC) e 51% chegaram à rodada A (has_roundA).\n",
    "- **Participantes médios:** a média é de 2,8 investidores por rodada, com máximo de 16.\n",
    "- **Labels:** aproximadamente 65% das observações têm rótulo positivo (1).\n",
    "\n",
    "Em resumo, os dados revelam grande heterogeneidade entre as empresas, especialmente no volume de financiamento. Também fica claro que uma parcela significativa das startups passou por rodadas iniciais de captação (seed e A), mas poucas alcançaram rodadas mais avançadas (C ou D)."
   ]
  },
  {
   "cell_type": "markdown",
   "id": "32910f60",
   "metadata": {},
   "source": [
    "**Informações do Dataset**"
   ]
  },
  {
   "cell_type": "code",
   "execution_count": null,
   "id": "5c86d3a5",
   "metadata": {},
   "outputs": [],
   "source": [
    "train_data.info()"
   ]
  },
  {
   "cell_type": "markdown",
   "id": "3da10583",
   "metadata": {},
   "source": [
    "AO dataset possui 646 entradas e 33 colunas. A maior parte das variáveis é numérica (`int64` ou `float64`), representando quantidades (ex.: número de rodadas de investimento, relacionamentos, marcos) ou indicadores binários (ex.: \"is_CA\", \"has_VC\"). Apenas a coluna \"category_code\" está no formato `object`, pois representa categorias de empresas em texto. Também é possível notar que algumas colunas do tipo `float64` possuem valores nulos, como \"age_first_funding_year\", \"age_last_funding_year\" e \"age_first_milestone_year\", o que pode exigir tratamento posterior."
   ]
  },
  {
   "cell_type": "markdown",
   "id": "1a2744db",
   "metadata": {},
   "source": [
    "**Registros de Amostra**"
   ]
  },
  {
   "cell_type": "code",
   "execution_count": null,
   "id": "9f56853c",
   "metadata": {},
   "outputs": [],
   "source": [
    "train_data.head()"
   ]
  },
  {
   "cell_type": "markdown",
   "id": "72a38b01",
   "metadata": {},
   "source": [
    "**Dimensões e Estrutura do Dataset**"
   ]
  },
  {
   "cell_type": "code",
   "execution_count": null,
   "id": "2ab7b522",
   "metadata": {},
   "outputs": [],
   "source": [
    "train_data.shape"
   ]
  },
  {
   "cell_type": "code",
   "execution_count": null,
   "id": "56dca823",
   "metadata": {},
   "outputs": [],
   "source": [
    "train_data.columns"
   ]
  },
  {
   "cell_type": "markdown",
   "id": "04561445",
   "metadata": {},
   "source": [
    "- **id** (`int64`) → Identificador único da startup no dataset.  \n",
    "\n",
    "**Variável alvo**\n",
    "- **labels** (`int64`) → Indicador de sucesso:  \n",
    "  - **1** = startup bem-sucedida (ativa/adquirida).  \n",
    "  - **0** = startup fechada/insucesso.  \n",
    "  - **Distribuição**: ~65% sucesso, ~35% insucesso.  \n",
    "\n",
    "**Idades relativas (anos desde a fundação até o evento)** \n",
    "- **age_first_funding_year** (`float64`) → Anos até o primeiro funding (≥ 0 ou NaN).  \n",
    "- **age_last_funding_year** (`float64`) → Anos até o último funding (≥ 0 ou NaN).  \n",
    "- **age_first_milestone_year** (`float64`) → Anos até o primeiro marco relevante (muitos NaN).  \n",
    "- **age_last_milestone_year** (`float64`) → Anos até o último marco relevante (muitos NaN).  \n",
    "\n",
    "**Estrutura, histórico e escala de captação**\n",
    "- **relationships** (`int64`) → Número de relacionamentos (fundadores, executivos, investidores).  \n",
    "- **funding_rounds** (`int64`) → Número de rodadas de captação.  \n",
    "- **funding_total_usd** (`float64`) → Total captado em dólares (valores extremos tratados).  \n",
    "- **milestones** (`int64`) → Quantidade de marcos relevantes registrados.  \n",
    "- **avg_participants** (`float64`) → Média de investidores por rodada de funding.  \n",
    "\n",
    "**Localização (variáveis binárias)** \n",
    "- **is_CA**, **is_NY**, **is_MA**, **is_TX**, **is_otherstate** (`int64`) → Indicam o estado-sede da startup (Califórnia, Nova Iorque, Massachusetts, Texas ou Outros).  \n",
    "\n",
    "**Setor/mercado**\n",
    "- **category_code** (`object`) → Setor principal declarado da startup (string).  \n",
    "- **is_software**, **is_web**, **is_mobile**, **is_enterprise**, **is_advertising**, **is_gamesvideo**, **is_ecommerce**, **is_biotech**, **is_consulting**, **is_othercategory** (`int64`) → Indicadores de setor em formato binário (0/1).  \n",
    "\n",
    "**Sinalizadores de financiamento**\n",
    "- **has_VC** (`int64`) → Recebeu **venture capital**? (0/1).  \n",
    "- **has_angel** (`int64`) → Recebeu **investimento anjo**? (0/1).  \n",
    "- **has_roundA**, **has_roundB**, **has_roundC**, **has_roundD** (`int64`) → Indicam se a startup chegou até cada rodada de funding específica.  "
   ]
  },
  {
   "cell_type": "code",
   "execution_count": null,
   "id": "1a365721",
   "metadata": {},
   "outputs": [],
   "source": [
    "train_data['labels'].value_counts()"
   ]
  },
  {
   "cell_type": "code",
   "execution_count": null,
   "id": "973d8f00",
   "metadata": {},
   "outputs": [],
   "source": [
    "print(f\"Taxa de sucesso: {train_data['labels'].mean():.2%}\")"
   ]
  }
 ],
 "metadata": {
  "kernelspec": {
   "display_name": "Python 3",
   "language": "python",
   "name": "python3"
  },
  "language_info": {
   "codemirror_mode": {
    "name": "ipython",
    "version": 3
   },
   "file_extension": ".py",
   "mimetype": "text/x-python",
   "name": "python",
   "nbconvert_exporter": "python",
   "pygments_lexer": "ipython3",
   "version": "3.13.3"
  }
 },
 "nbformat": 4,
 "nbformat_minor": 5
}
