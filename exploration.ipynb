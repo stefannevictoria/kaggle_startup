{
 "cells": [
  {
   "cell_type": "markdown",
   "id": "eb100bac",
   "metadata": {},
   "source": [
    "# **Introdução**\n"
   ]
  },
  {
   "cell_type": "markdown",
   "id": "b81e2e9c",
   "metadata": {},
   "source": [
    "# **Análise Exploratória dos Dados**"
   ]
  },
  {
   "cell_type": "markdown",
   "id": "f74fdd43",
   "metadata": {},
   "source": [
    "##### Importação das bibliotecas\n"
   ]
  },
  {
   "cell_type": "code",
   "execution_count": null,
   "id": "6bdbef89",
   "metadata": {},
   "outputs": [],
   "source": [
    "import pandas as pd\n",
    "import numpy as np\n",
    "import matplotlib.pyplot as plt\n",
    "import seaborn as sns\n",
    "from sklearn.preprocessing import FunctionTransformer, StandardScaler, LabelEncoder, OneHotEncoder\n",
    "from sklearn.model_selection import train_test_split, cross_val_score, cross_validate, KFold\n",
    "from sklearn.ensemble import RandomForestClassifier\n",
    "from sklearn.linear_model import LogisticRegression\n",
    "from sklearn.metrics import classification_report, confusion_matrix, roc_auc_score\n",
    "from sklearn.pipeline import Pipeline\n",
    "from sklearn.impute import SimpleImputer\n",
    "from sklearn.compose import ColumnTransformer\n",
    "from sklearn.ensemble import RandomForestClassifier"
   ]
  },
  {
   "cell_type": "markdown",
   "id": "fb0a2509",
   "metadata": {},
   "source": [
    "##### Carregamento das bases de treino e teste"
   ]
  },
  {
   "cell_type": "code",
   "execution_count": null,
   "id": "ebebec76",
   "metadata": {},
   "outputs": [],
   "source": [
    "train_data = pd.read_csv('data/train.csv')\n",
    "test_data = pd.read_csv('data/test.csv') "
   ]
  },
  {
   "cell_type": "markdown",
   "id": "c314449c",
   "metadata": {},
   "source": [
    "#### Estrutura do Dataset"
   ]
  },
  {
   "cell_type": "markdown",
   "id": "45e83366",
   "metadata": {},
   "source": [
    "**Análise Descritiva**\n"
   ]
  },
  {
   "cell_type": "code",
   "execution_count": null,
   "id": "1d2292c3",
   "metadata": {},
   "outputs": [],
   "source": [
    "train_data.describe()"
   ]
  },
  {
   "cell_type": "markdown",
   "id": "42c9754b",
   "metadata": {},
   "source": [
    "A tabela acima mostra as estatísticas descritivas do conjunto de dados. Algumas informações importantes são: \n",
    "\n",
    "- **Idade e marcos:** as colunas de idade em relação ao primeiro/último financiamento e ao primeiro/último marco apresentam valores médios entre 2 e 5 anos, mas com grande variação (máximo chegando a mais de 20 anos). Isso indica que existem tanto startups muito jovens quanto outras mais consolidadas.\n",
    "- **Relacionamentos e rodadas de investimento:** em média, cada empresa tem cerca de 8 relacionamentos e 2,3 rodadas de financiamento. O máximo observado foi de 63 relacionamentos e 8 rodadas, mostrando casos de alto networking e captação recorrente.\n",
    "- **Financiamento total:** há uma grande dispersão em funding_total_usd. O valor médio é em torno de 29 milhões de dólares, mas o desvio padrão é muito alto, chegando a um máximo de 5,7 bilhões. Isso sugere forte assimetria e presença de outliers.\n",
    "- **Milestones:** a média de marcos atingidos é próxima de 2, com máximo de 6.\n",
    "- **Variáveis binárias:** indicam se a empresa pertence a determinada categoria ou atingiu uma rodada específica. A média desses campos mostra a proporção de empresas que se enquadram em cada caso. Por exemplo, cerca de 55% são da Califórnia (is_CA), 33% receberam investimento de venture capital (has_VC) e 51% chegaram à rodada A (has_roundA).\n",
    "- **Participantes médios:** a média é de 2,8 investidores por rodada, com máximo de 16.\n",
    "- **Labels:** aproximadamente 65% das observações têm rótulo positivo (1).\n",
    "\n",
    "Em resumo, os dados revelam grande heterogeneidade entre as empresas, especialmente no volume de financiamento. Também fica claro que uma parcela significativa das startups passou por rodadas iniciais de captação (seed e A), mas poucas alcançaram rodadas mais avançadas (C ou D)."
   ]
  },
  {
   "cell_type": "markdown",
   "id": "32910f60",
   "metadata": {},
   "source": [
    "**Informações do Dataset**"
   ]
  },
  {
   "cell_type": "code",
   "execution_count": null,
   "id": "5c86d3a5",
   "metadata": {},
   "outputs": [],
   "source": [
    "train_data.info()"
   ]
  },
  {
   "cell_type": "markdown",
   "id": "3da10583",
   "metadata": {},
   "source": [
    "AO dataset possui 646 entradas e 33 colunas. A maior parte das variáveis é numérica (`int64` ou `float64`), representando quantidades (ex.: número de rodadas de investimento, relacionamentos, marcos) ou indicadores binários (ex.: \"is_CA\", \"has_VC\"). Apenas a coluna \"category_code\" está no formato `object`, pois representa categorias de empresas em texto. Também é possível notar que algumas colunas do tipo `float64` possuem valores nulos, como \"age_first_funding_year\", \"age_last_funding_year\" e \"age_first_milestone_year\", o que pode exigir tratamento posterior."
   ]
  },
  {
   "cell_type": "markdown",
   "id": "1a2744db",
   "metadata": {},
   "source": [
    "**Registros de Amostra**"
   ]
  },
  {
   "cell_type": "code",
   "execution_count": null,
   "id": "9f56853c",
   "metadata": {},
   "outputs": [],
   "source": [
    "train_data.head()"
   ]
  },
  {
   "cell_type": "markdown",
   "id": "72a38b01",
   "metadata": {},
   "source": [
    "**Dimensões e Estrutura do Dataset**"
   ]
  },
  {
   "cell_type": "code",
   "execution_count": null,
   "id": "2ab7b522",
   "metadata": {},
   "outputs": [],
   "source": [
    "train_data.shape"
   ]
  },
  {
   "cell_type": "markdown",
   "id": "12fa7422",
   "metadata": {},
   "source": [
    "##### Colunas"
   ]
  },
  {
   "cell_type": "code",
   "execution_count": null,
   "id": "56dca823",
   "metadata": {},
   "outputs": [],
   "source": [
    "train_data.columns"
   ]
  },
  {
   "cell_type": "markdown",
   "id": "04561445",
   "metadata": {},
   "source": [
    "- **id** (`int64`) → Identificador único da startup no dataset.  \n",
    "\n",
    "**Variável alvo**\n",
    "- **labels** (`int64`) → Indicador de sucesso:  \n",
    "  - **1** = startup bem-sucedida (ativa/adquirida).  \n",
    "  - **0** = startup fechada/insucesso.  \n",
    "  - **Distribuição**: ~65% sucesso, ~35% insucesso.  \n",
    "\n",
    "**Idades relativas (anos desde a fundação até o evento)** \n",
    "- **age_first_funding_year** (`float64`) → Anos até o primeiro funding (≥ 0 ou NaN).  \n",
    "- **age_last_funding_year** (`float64`) → Anos até o último funding (≥ 0 ou NaN).  \n",
    "- **age_first_milestone_year** (`float64`) → Anos até o primeiro marco relevante (muitos NaN).  \n",
    "- **age_last_milestone_year** (`float64`) → Anos até o último marco relevante (muitos NaN).  \n",
    "\n",
    "**Estrutura, histórico e escala de captação**\n",
    "- **relationships** (`int64`) → Número de relacionamentos (fundadores, executivos, investidores).  \n",
    "- **funding_rounds** (`int64`) → Número de rodadas de captação.  \n",
    "- **funding_total_usd** (`float64`) → Total captado em dólares (valores extremos tratados).  \n",
    "- **milestones** (`int64`) → Quantidade de marcos relevantes registrados.  \n",
    "- **avg_participants** (`float64`) → Média de investidores por rodada de funding.  \n",
    "\n",
    "**Localização (variáveis binárias)** \n",
    "- **is_CA**, **is_NY**, **is_MA**, **is_TX**, **is_otherstate** (`int64`) → Indicam o estado-sede da startup (Califórnia, Nova Iorque, Massachusetts, Texas ou Outros).  \n",
    "\n",
    "**Setor/mercado**\n",
    "- **category_code** (`object`) → Setor principal declarado da startup (string).  \n",
    "- **is_software**, **is_web**, **is_mobile**, **is_enterprise**, **is_advertising**, **is_gamesvideo**, **is_ecommerce**, **is_biotech**, **is_consulting**, **is_othercategory** (`int64`) → Indicadores de setor em formato binário (0/1).  \n",
    "\n",
    "**Sinalizadores de financiamento**\n",
    "- **has_VC** (`int64`) → Recebeu **venture capital**? (0/1).  \n",
    "- **has_angel** (`int64`) → Recebeu **investimento anjo**? (0/1).  \n",
    "- **has_roundA**, **has_roundB**, **has_roundC**, **has_roundD** (`int64`) → Indicam se a startup chegou até cada rodada de funding específica.  "
   ]
  },
  {
   "cell_type": "code",
   "execution_count": null,
   "id": "1a365721",
   "metadata": {},
   "outputs": [],
   "source": [
    "train_data['labels'].value_counts()"
   ]
  },
  {
   "cell_type": "code",
   "execution_count": null,
   "id": "973d8f00",
   "metadata": {},
   "outputs": [],
   "source": [
    "print(f\"Taxa de sucesso: {train_data['labels'].mean():.2%}\")"
   ]
  },
  {
   "cell_type": "markdown",
   "id": "c7ccb187",
   "metadata": {},
   "source": [
    "#### Identificação das variáveis"
   ]
  },
  {
   "cell_type": "markdown",
   "id": "e8bf7bb8",
   "metadata": {},
   "source": [
    "As variáveis do dataset foram separadas em três grupos: **numéricas contínuas**, **categóricas** e **binárias**. Essa distinção é importante porque cada tipo de variável demanda um tratamento específico durante a análise e a modelagem."
   ]
  },
  {
   "cell_type": "code",
   "execution_count": null,
   "id": "f41f5981",
   "metadata": {},
   "outputs": [],
   "source": [
    "# Variáveis contínuas\n",
    "num_continuous = [\n",
    "    \"age_first_funding_year\", \"age_last_funding_year\",\n",
    "    \"age_first_milestone_year\", \"age_last_milestone_year\",\n",
    "    \"funding_total_usd\", \"avg_participants\"\n",
    "]\n",
    "\n",
    "# Variáveis discretas de contagem\n",
    "num_discrete = [\"relationships\", \"funding_rounds\", \"milestones\"]\n",
    "\n",
    "# Variáveis categóricas nominais\n",
    "cat_nominal = [\"category_code\"]\n",
    "\n",
    "# Variáveis binárias (dummies)\n",
    "cat_binary = [\n",
    "    \"is_CA\", \"is_NY\", \"is_MA\", \"is_TX\", \"is_otherstate\",\n",
    "    \"is_software\", \"is_web\", \"is_mobile\", \"is_enterprise\",\n",
    "    \"is_advertising\", \"is_gamesvideo\", \"is_ecommerce\", \"is_biotech\",\n",
    "    \"is_consulting\", \"is_othercategory\",\n",
    "    \"has_VC\", \"has_angel\", \"has_roundA\", \"has_roundB\",\n",
    "    \"has_roundC\", \"has_roundD\"\n",
    "]\n",
    "\n",
    "# Variável alvo\n",
    "target = [\"labels\"]"
   ]
  },
  {
   "cell_type": "markdown",
   "id": "3a63c751",
   "metadata": {},
   "source": [
    "# **Limpeza dos Dados**"
   ]
  },
  {
   "cell_type": "markdown",
   "id": "f2203068",
   "metadata": {},
   "source": [
    "### Tratamento de Valores Nulos"
   ]
  },
  {
   "cell_type": "markdown",
   "id": "5f848dad",
   "metadata": {},
   "source": [
    "A ausência de dados pode afetar o desempenho e a qualidade das previsões, além de indicar possíveis vieses. Assim, foi realizada uma verificação da quantidade e proporção de valores ausentes em cada variável, para então definir a estratégia de tratamento adequada."
   ]
  },
  {
   "cell_type": "code",
   "execution_count": null,
   "id": "82ba556f",
   "metadata": {},
   "outputs": [],
   "source": [
    "# --- Valores nulos no treino ---\n",
    "null_train = train_data.isnull().sum()\n",
    "null_train_pct = (null_train / len(train_data)) * 100\n",
    "\n",
    "df_train = pd.DataFrame({\n",
    "    \"Nulos Treino (Qtd)\": null_train,\n",
    "    \"Nulos Treino (%)\": null_train_pct\n",
    "})\n",
    "\n",
    "# Filtrar apenas colunas com nulos\n",
    "df_train = df_train[df_train[\"Nulos Treino (Qtd)\"] > 0] \\\n",
    "    .sort_values(by=\"Nulos Treino (%)\", ascending=False)\n",
    "\n",
    "print(\"Valores nulos no conjunto de TREINO:\")\n",
    "display(df_train)\n",
    "\n",
    "# --- Valores nulos no teste ---\n",
    "null_test = test_data.isnull().sum()\n",
    "null_test_pct = (null_test / len(test_data)) * 100\n",
    "\n",
    "df_test = pd.DataFrame({\n",
    "    \"Nulos Teste (Qtd)\": null_test,\n",
    "    \"Nulos Teste (%)\": null_test_pct\n",
    "})\n",
    "\n",
    "# Filtrar apenas colunas com nulos\n",
    "df_test = df_test[df_test[\"Nulos Teste (Qtd)\"] > 0] \\\n",
    "    .sort_values(by=\"Nulos Teste (%)\", ascending=False)\n",
    "\n",
    "print(\"Valores nulos no conjunto de TESTE:\")\n",
    "display(df_test)"
   ]
  },
  {
   "cell_type": "code",
   "execution_count": null,
   "id": "fb1e30c4",
   "metadata": {},
   "outputs": [],
   "source": [
    "df_compare = pd.DataFrame({\n",
    "    \"Treino (%)\": null_train_pct,\n",
    "    \"Teste (%)\": null_test_pct\n",
    "}).fillna(0)\n",
    "\n",
    "# Filtrar apenas colunas com valores nulos em treino ou teste\n",
    "df_compare = df_compare[(df_compare[\"Treino (%)\"] > 0) | (df_compare[\"Teste (%)\"] > 0)]\n",
    "\n",
    "# Ordenar por treino (decrescente)\n",
    "df_compare = df_compare.sort_values(by=\"Treino (%)\", ascending=False)\n",
    "\n",
    "# Gráfico\n",
    "df_compare.plot(kind=\"bar\", figsize=(10,6))\n",
    "plt.title(\"Comparação de valores nulos (%) - Treino vs Teste\")\n",
    "plt.ylabel(\"% de valores nulos\")\n",
    "plt.xlabel(\"Colunas\")\n",
    "plt.xticks(rotation=45, ha=\"right\")\n",
    "plt.tight_layout()\n",
    "plt.show()"
   ]
  },
  {
   "cell_type": "markdown",
   "id": "90c977a0",
   "metadata": {},
   "source": [
    "A análise revelou a presença de valores nulos concentrados em variáveis relacionadas a eventos temporais (`age_*`). As proporções de dados ausentes são semelhantes entre treino e teste, o que sugere consistência no padrão de missing. Essas variáveis serão tratadas diretamente no pipeline de pré-processamento, garantindo que o mesmo processo de imputação seja aplicado tanto no treinamento quanto em dados novos, evitando vazamento de informação."
   ]
  },
  {
   "cell_type": "markdown",
   "id": "fd397a6d",
   "metadata": {},
   "source": [
    "### Duplicatas"
   ]
  },
  {
   "cell_type": "code",
   "execution_count": null,
   "id": "9308a5f2",
   "metadata": {},
   "outputs": [],
   "source": [
    "print(train_data.duplicated().sum(),'duplicatas')\n",
    "print(test_data.duplicated().sum(),'duplicatas')"
   ]
  },
  {
   "cell_type": "markdown",
   "id": "d8c76604",
   "metadata": {},
   "source": [
    "O código acima verifica a existência de linhas duplicadas na base de dados, como não existem, segue-se a limpeza."
   ]
  },
  {
   "cell_type": "markdown",
   "id": "46440fa8",
   "metadata": {},
   "source": [
    "### Outliers"
   ]
  },
  {
   "cell_type": "code",
   "execution_count": null,
   "id": "b68c095d",
   "metadata": {},
   "outputs": [],
   "source": [
    "# Selecionar apenas colunas numéricas\n",
    "numeric_cols = train_data.select_dtypes(include=[np.number]).columns\n",
    "\n",
    "outlier_summary = {}\n",
    "\n",
    "for col in numeric_cols:\n",
    "    Q1 = train_data[col].quantile(0.25)\n",
    "    Q3 = train_data[col].quantile(0.75)\n",
    "    IQR = Q3 - Q1\n",
    "    lower = Q1 - 1.5 * IQR\n",
    "    upper = Q3 + 1.5 * IQR\n",
    "    \n",
    "    # Contar outliers\n",
    "    n_outliers = ((train_data[col] < lower) | (train_data[col] > upper)).sum()\n",
    "    pct_outliers = n_outliers / len(train_data) * 100\n",
    "    \n",
    "    if n_outliers > 0:  # salvar só colunas que têm outliers\n",
    "        outlier_summary[col] = {\n",
    "            \"Qtd Outliers\": n_outliers,\n",
    "            \"% Outliers\": round(pct_outliers, 2)\n",
    "        }\n",
    "\n",
    "df_outliers = pd.DataFrame(outlier_summary).T.sort_values(\"% Outliers\", ascending=False)\n",
    "\n",
    "print(\"Resumo de outliers por variável (IQR):\")\n",
    "display(df_outliers)"
   ]
  },
  {
   "cell_type": "markdown",
   "id": "6f2efc78",
   "metadata": {},
   "source": [
    "A aplicação do método do Intervalo Interquartil (IQR) revelou a presença de valores atípicos em diversas variáveis. A análise desses resultados distingue os \"falsos positivos\" (outliers não problemáticos) e outliers verdadeiros (que podem interferir na modelagem).\n",
    "\n",
    "\n",
    "**1. Falsos Outliers (Variáveis Binárias)**\n",
    "\n",
    "| Variável | Característica | Implicação |\n",
    "|----------|----------------|------------|\n",
    "| has_roundC, is_otherstate, is_software, is_web | Variáveis binárias (0 ou 1) com alta proporção de \"outliers\". | Não preocupante. O método IQR não é adequado para este tipo de variável, gerando falsos positivos (artefatos do cálculo). Esses valores não serão tratados. |\n",
    "\n",
    "\n",
    "**2. Outliers Relevantes (Variáveis Financeiras e de Atividade)**\n",
    "\n",
    "Os outliers observados nestas variáveis são significativos e refletem características reais e valiosas das empresas.\n",
    "\n",
    "| Variável | Proporção de Outliers | Interpretação e Recomendação de Tratamento |\n",
    "|----------|---------------------|-------------------------------------------|\n",
    "| funding_total_usd | 7,7% | Representam empresas que receberam rodadas de investimento excepcionais. |\n",
    "| relationships | 7,3% | Indicam empresas com redes de contato ou parcerias muito acima da média do grupo. |\n",
    "\n",
    "**Recomendação:** Estes valores são informações valiosas sobre o sucesso ou a dimensão das startups e não devem ser simplesmente removidos. O tratamento ideal deve focar em reduzir o impacto da escala sem perder a informação, por meio de:  \n",
    "\n",
    "- **Transformações Logarítmicas:** Para normalizar a distribuição e mitigar a influência dos valores extremos.  \n",
    "- **Modelos Robustos:** Utilização de algoritmos de machine learning que são menos sensíveis a outliers.  \n",
    "\n",
    "\n",
    "**3. Outliers em Métricas de Rodadas e Idade**\n",
    "\n",
    "Outras métricas apresentaram um nível de outliers mais gerenciável, mas que também merecem atenção.\n",
    "\n",
    "- **Métricas de Rodadas (<3% de outliers):** Variáveis como `funding_rounds` e `avg_participants` refletem startups com um histórico de captação de investimento ou um padrão de participação em rodadas incomum. O tratamento via transformação logarítmica também é recomendado.\n",
    "\n",
    "- **Variáveis de Idade (<2% de outliers):** O baixo percentual de valores atípicos nas variáveis `age_*` sugere que a idade das empresas está, em geral, bem distribuída, necessitando de intervenção mínima.\n"
   ]
  },
  {
   "cell_type": "code",
   "execution_count": null,
   "id": "bbabf4b5",
   "metadata": {},
   "outputs": [],
   "source": [
    "# Selecionar colunas com outliers reais (tirando as binárias)\n",
    "cols_outliers = [\n",
    "    \"funding_total_usd\",\n",
    "    \"relationships\",\n",
    "    \"funding_rounds\",\n",
    "    \"avg_participants\",\n",
    "    \"age_first_funding_year\",\n",
    "    \"age_last_funding_year\",\n",
    "    \"age_first_milestone_year\",\n",
    "    \"age_last_milestone_year\"\n",
    "]\n",
    "\n",
    "# Plotar boxplots\n",
    "n_cols = 3\n",
    "n_rows = int(np.ceil(len(cols_outliers) / n_cols))\n",
    "\n",
    "plt.figure(figsize=(15, n_rows*4))\n",
    "\n",
    "for i, col in enumerate(cols_outliers, 1):\n",
    "    plt.subplot(n_rows, n_cols, i)\n",
    "    plt.boxplot(train_data[col].dropna(), vert=True)\n",
    "    plt.title(col)\n",
    "    plt.ylabel(\"Valor\")\n",
    "    plt.grid(True, axis=\"y\", linestyle=\"--\", alpha=0.7)\n",
    "\n",
    "plt.suptitle(\"Boxplots das variáveis numéricas com outliers\", fontsize=16, y=1.02)\n",
    "plt.tight_layout()\n",
    "plt.show()"
   ]
  },
  {
   "cell_type": "markdown",
   "id": "d5711408",
   "metadata": {},
   "source": [
    "# **Pré-processamento**"
   ]
  },
  {
   "cell_type": "code",
   "execution_count": null,
   "id": "38dcbe34",
   "metadata": {},
   "outputs": [],
   "source": [
    "# Feature Engineering\n",
    "\n",
    "# 1. funding_duration\n",
    "train_data[\"funding_duration\"] = (train_data[\"age_last_funding_year\"] - train_data[\"age_first_funding_year\"]).fillna(0)\n",
    "test_data[\"funding_duration\"]  = (test_data[\"age_last_funding_year\"] - test_data[\"age_first_funding_year\"]).fillna(0)\n",
    "\n",
    "# 2. relationships_per_round\n",
    "train_data[\"relationships_per_round\"] = train_data[\"relationships\"] / (train_data[\"funding_rounds\"] + 1)\n",
    "test_data[\"relationships_per_round\"]  = test_data[\"relationships\"] / (test_data[\"funding_rounds\"] + 1)\n",
    "\n",
    "# 3. maturity_score\n",
    "for col in [\"funding_rounds\", \"relationships\", \"milestones\"]:\n",
    "    max_val = train_data[col].max()  # usa apenas o train para evitar leakage\n",
    "    train_data[f\"{col}_norm\"] = train_data[col] / max_val if max_val > 0 else 0\n",
    "    test_data[f\"{col}_norm\"]  = test_data[col] / max_val if max_val > 0 else 0\n",
    "\n",
    "train_data[\"maturity_score\"] = (\n",
    "    train_data[\"funding_rounds_norm\"] * 0.4 +\n",
    "    train_data[\"relationships_norm\"] * 0.3 +\n",
    "    train_data[\"milestones_norm\"] * 0.3\n",
    ")\n",
    "test_data[\"maturity_score\"] = (\n",
    "    test_data[\"funding_rounds_norm\"] * 0.4 +\n",
    "    test_data[\"relationships_norm\"] * 0.3 +\n",
    "    test_data[\"milestones_norm\"] * 0.3\n",
    ")\n",
    "\n",
    "# 4. avg_funding_per_round\n",
    "train_data[\"avg_funding_per_round\"] = train_data[\"funding_total_usd\"] / (train_data[\"funding_rounds\"] + 1)\n",
    "test_data[\"avg_funding_per_round\"]  = test_data[\"funding_total_usd\"] / (test_data[\"funding_rounds\"] + 1)\n"
   ]
  },
  {
   "cell_type": "code",
   "execution_count": null,
   "id": "0b674e0e",
   "metadata": {},
   "outputs": [],
   "source": [
    "train_data[\"funding_per_relationship\"] = train_data[\"funding_total_usd\"] / (train_data[\"relationships\"] + 1)\n",
    "test_data[\"funding_per_relationship\"]  = test_data[\"funding_total_usd\"] / (test_data[\"relationships\"] + 1)\n",
    "\n",
    "train_data[\"milestones_per_year\"] = train_data[\"milestones\"] / (train_data[\"funding_duration\"] + 1)\n",
    "test_data[\"milestones_per_year\"]  = test_data[\"milestones\"] / (test_data[\"funding_duration\"] + 1)\n",
    "\n",
    "train_data[\"participants_per_round\"] = train_data[\"avg_participants\"] / (train_data[\"funding_rounds\"] + 1)\n",
    "test_data[\"participants_per_round\"]  = test_data[\"avg_participants\"] / (test_data[\"funding_rounds\"] + 1)"
   ]
  },
  {
   "cell_type": "code",
   "execution_count": null,
   "id": "c674503c",
   "metadata": {},
   "outputs": [],
   "source": [
    "# multiplicação das top features\n",
    "train_data[\"maturity_x_relationships_per_round\"] = train_data[\"maturity_score\"] * train_data[\"relationships_per_round\"]\n",
    "test_data[\"maturity_x_relationships_per_round\"] = test_data[\"maturity_score\"] * test_data[\"relationships_per_round\"]"
   ]
  },
  {
   "cell_type": "code",
   "execution_count": null,
   "id": "58081ab6",
   "metadata": {},
   "outputs": [],
   "source": [
    "# divisão do funding médio pelo período de funding\n",
    "train_data[\"avg_funding_per_year\"] = train_data[\"avg_funding_per_round\"] / (train_data[\"funding_duration\"] + 1)\n",
    "test_data[\"avg_funding_per_year\"] = test_data[\"avg_funding_per_round\"] / (test_data[\"funding_duration\"] + 1)"
   ]
  },
  {
   "cell_type": "code",
   "execution_count": null,
   "id": "e9e3066d",
   "metadata": {},
   "outputs": [],
   "source": [
    "# funding ajustado pela maturidade\n",
    "train_data[\"funding_maturity_ratio\"] = train_data[\"funding_total_usd\"] / (train_data[\"maturity_score\"] + 1e-6)\n",
    "test_data[\"funding_maturity_ratio\"] = test_data[\"funding_total_usd\"] / (test_data[\"maturity_score\"] + 1e-6)"
   ]
  },
  {
   "cell_type": "code",
   "execution_count": null,
   "id": "166ff8f8",
   "metadata": {},
   "outputs": [],
   "source": [
    "train_data[\"participants_per_funding\"] = train_data[\"avg_participants\"] / (train_data[\"funding_rounds\"] + 1)\n",
    "test_data[\"participants_per_funding\"] = test_data[\"avg_participants\"] / (test_data[\"funding_rounds\"] + 1)"
   ]
  },
  {
   "cell_type": "markdown",
   "id": "d3ec8344",
   "metadata": {},
   "source": [
    "Antes de iniciar a modelagem, foi analisada a presença de valores ausentes tanto nos dados de treino quanto de teste. Essa etapa é fundamental para definir a estratégia de tratamento dentro do pipeline de pré-processamento, garantindo que o mesmo processo seja aplicado em qualquer novo conjunto de dados e evitando vazamento de informação."
   ]
  },
  {
   "cell_type": "code",
   "execution_count": null,
   "id": "1e4937d4",
   "metadata": {},
   "outputs": [],
   "source": [
    "# --- Variáveis ---\n",
    "numeric_features = [\"age_first_funding_year\", \"age_last_funding_year\",\n",
    "                    \"age_first_milestone_year\", \"age_last_milestone_year\",\n",
    "                    \"relationships\", \"funding_rounds\", \"funding_total_usd\",\n",
    "                    \"milestones\", \"avg_participants\"]\n",
    "\n",
    "categorical_features = [\"category_code\"]\n",
    "\n",
    "binary_features = [\"is_CA\", \"is_NY\", \"is_MA\", \"is_TX\", \"is_otherstate\",\n",
    "                   \"is_software\", \"is_web\", \"is_mobile\", \"is_enterprise\",\n",
    "                   \"is_advertising\", \"is_gamesvideo\", \"is_ecommerce\",\n",
    "                   \"is_biotech\", \"is_consulting\", \"is_othercategory\",\n",
    "                   \"has_VC\", \"has_angel\", \"has_roundA\", \"has_roundB\",\n",
    "                   \"has_roundC\", \"has_roundD\"]\n",
    "\n",
    "# Variáveis numéricas que precisam de log\n",
    "# log_vars = [\"funding_total_usd\", \"relationships\", \"avg_participants\", \"funding_rounds\"]\n",
    "\n",
    "# Numéricas sem log\n",
    "numeric_no_log = list(set(numeric_features))\n",
    "\n",
    "# --- Transformers ---\n",
    "numeric_no_log_transformer = Pipeline(steps=[\n",
    "    (\"imputer\", SimpleImputer(strategy=\"median\")),\n",
    "    (\"scaler\", StandardScaler())\n",
    "])\n",
    "\n",
    "numeric_log_transformer = Pipeline(steps=[\n",
    "    (\"imputer\", SimpleImputer(strategy=\"median\")),\n",
    "#   (\"log\", FunctionTransformer(np.log1p, validate=False)),\n",
    "    (\"scaler\", StandardScaler())\n",
    "])\n",
    "\n",
    "categorical_transformer = Pipeline(steps=[\n",
    "    (\"imputer\", SimpleImputer(strategy=\"most_frequent\")),\n",
    "    (\"onehot\", OneHotEncoder(handle_unknown=\"ignore\"))\n",
    "])\n",
    "\n",
    "binary_transformer = Pipeline(steps=[\n",
    "    (\"imputer\", SimpleImputer(strategy=\"most_frequent\"))\n",
    "])\n",
    "\n",
    "# --- Combina tudo ---\n",
    "preprocessor = ColumnTransformer(\n",
    "    transformers=[\n",
    "        (\"num_no_log\", numeric_no_log_transformer, numeric_no_log),\n",
    "#       (\"num_log\", numeric_log_transformer, log_vars),\n",
    "        (\"cat\", categorical_transformer, categorical_features),\n",
    "        (\"bin\", binary_transformer, binary_features)\n",
    "    ]\n",
    ")"
   ]
  },
  {
   "cell_type": "markdown",
   "id": "7a055753",
   "metadata": {},
   "source": [
    "# **Modelo**"
   ]
  },
  {
   "cell_type": "markdown",
   "id": "8527ffc2",
   "metadata": {},
   "source": [
    "### Passo 1: separar features e target do `train_data`"
   ]
  },
  {
   "cell_type": "code",
   "execution_count": null,
   "id": "10dd1d74",
   "metadata": {},
   "outputs": [],
   "source": [
    "X_train = train_data.drop(\"labels\", axis=1)  \n",
    "y_train = train_data[\"labels\"]\n",
    "\n",
    "# Teste (não tem labels)\n",
    "X_test = test_data.drop(\"id\", axis=1)  # mantém só as features"
   ]
  },
  {
   "cell_type": "markdown",
   "id": "009b730a",
   "metadata": {},
   "source": [
    "### Passo 2: Hiperparâmetro"
   ]
  },
  {
   "cell_type": "code",
   "execution_count": null,
   "id": "84cfb956",
   "metadata": {},
   "outputs": [],
   "source": [
    "from sklearn.model_selection import GridSearchCV, StratifiedKFold\n",
    "from sklearn.ensemble import RandomForestClassifier\n",
    "\n",
    "# --- Definir o modelo base ---\n",
    "rf = Pipeline(steps=[\n",
    "    (\"preprocessor\", preprocessor),\n",
    "    (\"classifier\", RandomForestClassifier(random_state=42, n_jobs=-1))\n",
    "])\n",
    "\n",
    "# --- Espaço de busca de hiperparâmetros ---\n",
    "param_grid = {\n",
    "    \"classifier__n_estimators\": [200, 500, 800],   # número de árvores\n",
    "    \"classifier__max_depth\": [10, 20, 30, None],   # profundidade máxima\n",
    "    \"classifier__min_samples_split\": [2, 5, 10],   # min. amostras p/ split\n",
    "    \"classifier__min_samples_leaf\": [1, 2, 4],     # min. amostras na folha\n",
    "    \"classifier__max_features\": [\"sqrt\", \"log2\"],  # nº máx. de features em cada split\n",
    "    \"classifier__bootstrap\": [True, False]         # usar ou não bootstrap\n",
    "}\n",
    "\n",
    "# --- Cross-validation estratificada (importante p/ desbalanceamento) ---\n",
    "cv = StratifiedKFold(n_splits=5, shuffle=True, random_state=42)\n",
    "\n",
    "# --- Grid Search ---\n",
    "grid_search = GridSearchCV(\n",
    "    estimator=rf,\n",
    "    param_grid=param_grid,\n",
    "    cv=cv,\n",
    "    scoring=\"roc_auc\",    # pode trocar por \"f1\", \"accuracy\" etc\n",
    "    n_jobs=-1,\n",
    "    verbose=2\n",
    ")\n",
    "\n",
    "# --- Rodar busca ---\n",
    "grid_search.fit(X_train, y_train)\n",
    "\n",
    "# --- Melhor modelo encontrado ---\n",
    "print(\"Melhores hiperparâmetros:\", grid_search.best_params_)\n",
    "print(\"Melhor ROC-AUC (CV):\", grid_search.best_score_)\n",
    "\n",
    "# --- Usar modelo otimizado ---\n",
    "best_model = grid_search.best_estimator_"
   ]
  },
  {
   "cell_type": "markdown",
   "id": "e638d0af",
   "metadata": {},
   "source": [
    "### Passo 3: validar dentro do train_data"
   ]
  },
  {
   "cell_type": "code",
   "execution_count": null,
   "id": "37a535bd",
   "metadata": {},
   "outputs": [],
   "source": [
    "# Definir métricas\n",
    "scoring = [\"accuracy\", \"precision\", \"recall\", \"f1\", \"roc_auc\"]\n",
    "\n",
    "# Cross-validation\n",
    "cv_results = cross_validate(\n",
    "    best_model,\n",
    "    X_train,\n",
    "    y_train,\n",
    "    cv=5,\n",
    "    scoring=scoring,\n",
    "    return_train_score=True\n",
    ")\n",
    "\n",
    "# Organizar em DataFrame\n",
    "df_scores = pd.DataFrame({\n",
    "    \"Treino (médio)\": [cv_results[f\"train_{m}\"].mean() for m in scoring],\n",
    "    \"Treino (std)\": [cv_results[f\"train_{m}\"].std() for m in scoring],\n",
    "    \"Teste (médio)\": [cv_results[f\"test_{m}\"].mean() for m in scoring],\n",
    "    \"Teste (std)\": [cv_results[f\"test_{m}\"].std() for m in scoring],\n",
    "}, index=scoring)\n",
    "\n",
    "print(\"\\n===== Resultados Cross-Validation =====\\n\")\n",
    "for metric in scoring:\n",
    "    print(f\"{metric.upper()}\")\n",
    "    print(f\"  Treino -> {df_scores.loc[metric, 'Treino (médio)']:.4f} ± {df_scores.loc[metric, 'Treino (std)']:.4f}\")\n",
    "    print(f\"  Teste  -> {df_scores.loc[metric, 'Teste (médio)']:.4f} ± {df_scores.loc[metric, 'Teste (std)']:.4f}\")\n",
    "    print()"
   ]
  },
  {
   "cell_type": "code",
   "execution_count": null,
   "id": "dd081de6",
   "metadata": {},
   "outputs": [],
   "source": [
    "# Treinar no dataset completo antes da submissão\n",
    "best_model.fit(X_train, y_train)"
   ]
  },
  {
   "cell_type": "markdown",
   "id": "9ef918c9",
   "metadata": {},
   "source": [
    "### Passo 4: prever no test_data"
   ]
  },
  {
   "cell_type": "code",
   "execution_count": null,
   "id": "6d98d45f",
   "metadata": {},
   "outputs": [],
   "source": [
    "# Previsões finais (classe 0 ou 1)\n",
    "y_test_pred_labels = best_model.predict(X_test)\n",
    "\n",
    "# Criar submission\n",
    "submission = pd.DataFrame({\n",
    "    \"id\": test_data[\"id\"],   \n",
    "    \"labels\": y_test_pred_labels.astype(int)\n",
    "})\n",
    "\n",
    "# Salvar arquivo\n",
    "submission.to_csv(\"submission.csv\", index=False)"
   ]
  },
  {
   "cell_type": "markdown",
   "id": "007c9a51",
   "metadata": {},
   "source": [
    "### Passo 5: Explicabilidade"
   ]
  },
  {
   "cell_type": "code",
   "execution_count": null,
   "id": "ecd9afed",
   "metadata": {},
   "outputs": [],
   "source": [
    "# --- Treinar modelo ---\n",
    "rf.fit(X_train, y_train)\n",
    "\n",
    "# --- Agora já podemos acessar os nomes das features ---\n",
    "rf_model = rf.named_steps[\"classifier\"]  # RandomForest dentro do pipeline\n",
    "preprocessor = rf.named_steps[\"preprocessor\"]\n",
    "\n",
    "# Nomes finais das colunas transformadas\n",
    "feature_names = preprocessor.get_feature_names_out()\n",
    "\n",
    "# Importâncias\n",
    "importances = rf_model.feature_importances_\n",
    "\n",
    "# DataFrame organizado\n",
    "feat_importances = pd.DataFrame({\n",
    "    \"Feature\": feature_names,\n",
    "    \"Importance\": importances\n",
    "}).sort_values(by=\"Importance\", ascending=False)\n",
    "\n",
    "# --- Plot ---\n",
    "top_n = 20\n",
    "plt.figure(figsize=(10, 6))\n",
    "sns.barplot(\n",
    "    data=feat_importances.head(top_n),\n",
    "    x=\"Importance\",\n",
    "    y=\"Feature\",\n",
    "    palette=\"viridis\"\n",
    ")\n",
    "plt.title(f\"Top {top_n} Features - Random Forest\", fontsize=14)\n",
    "plt.xlabel(\"Importance (Gini)\")\n",
    "plt.ylabel(\"Feature\")\n",
    "plt.tight_layout()\n",
    "plt.show()\n",
    "\n",
    "# Mostrar top 20 no terminal\n",
    "feat_importances.head(20)"
   ]
  }
 ],
 "metadata": {
  "kernelspec": {
   "display_name": "Python 3",
   "language": "python",
   "name": "python3"
  },
  "language_info": {
   "codemirror_mode": {
    "name": "ipython",
    "version": 3
   },
   "file_extension": ".py",
   "mimetype": "text/x-python",
   "name": "python",
   "nbconvert_exporter": "python",
   "pygments_lexer": "ipython3",
   "version": "3.13.3"
  }
 },
 "nbformat": 4,
 "nbformat_minor": 5
}
